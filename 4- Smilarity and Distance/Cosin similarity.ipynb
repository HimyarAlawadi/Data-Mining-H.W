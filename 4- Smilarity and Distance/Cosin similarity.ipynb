{
 "cells": [
  {
   "cell_type": "code",
   "execution_count": 19,
   "metadata": {},
   "outputs": [],
   "source": [
    "# import wanted libs\n",
    "import numpy as np\n",
    "import seaborn as sns\n",
    "import matplotlib.pyplot as plt\n",
    "from sklearn.feature_extraction.text import CountVectorizer\n",
    "from sklearn.feature_extraction.text import TfidfVectorizer\n",
    "from sklearn.metrics.pairwise import cosine_similarity"
   ]
  },
  {
   "cell_type": "code",
   "execution_count": 20,
   "metadata": {},
   "outputs": [],
   "source": [
    "# Define two documents contain strings\n",
    "dcoumant1 = \"I love cats\"\n",
    "dcoumant2 = \"I love dogs\""
   ]
  },
  {
   "cell_type": "code",
   "execution_count": 21,
   "metadata": {},
   "outputs": [],
   "source": [
    "# Create a CountVectorizer object\n",
    "vectorizer = TfidfVectorizer()"
   ]
  },
  {
   "cell_type": "code",
   "execution_count": 22,
   "metadata": {},
   "outputs": [],
   "source": [
    "# Fit and transform the vectorizer on the two documents\n",
    "count_matrix = vectorizer.fit_transform([dcoumant1, dcoumant2])"
   ]
  },
  {
   "cell_type": "code",
   "execution_count": 23,
   "metadata": {},
   "outputs": [],
   "source": [
    "# Calculate the cosine similarity between the two documents\n",
    "cosine_sim = cosine_similarity(count_matrix)"
   ]
  },
  {
   "cell_type": "code",
   "execution_count": 24,
   "metadata": {},
   "outputs": [
    {
     "name": "stdout",
     "output_type": "stream",
     "text": [
      "[[1.         0.33609693]\n",
      " [0.33609693 1.        ]]\n"
     ]
    }
   ],
   "source": [
    "# Print calculate cosin simliarity matrix\n",
    "print(cosine_sim)"
   ]
  },
  {
   "cell_type": "code",
   "execution_count": 27,
   "metadata": {},
   "outputs": [
    {
     "name": "stdout",
     "output_type": "stream",
     "text": [
      "0.33609692727625756\n"
     ]
    }
   ],
   "source": [
    "# Print calculate cosin simliarity value\n",
    "similarity_value = cosine_sim[0][1]\n",
    "print(similarity_value)"
   ]
  },
  {
   "cell_type": "code",
   "execution_count": 25,
   "metadata": {},
   "outputs": [
    {
     "data": {
      "text/plain": [
       "<function matplotlib.pyplot.show(close=None, block=None)>"
      ]
     },
     "execution_count": 25,
     "metadata": {},
     "output_type": "execute_result"
    },
    {
     "data": {
      "image/png": "[encoded data removed]",
      "text/plain": [
       "<Figure size 432x288 with 2 Axes>"
      ]
     },
     "metadata": {
      "needs_background": "light"
     },
     "output_type": "display_data"
    }
   ],
   "source": [
    "# Create a heatmap of the cosine similarity\n",
    "sns.heatmap(cosine_sim, annot=True, cmap=\"YlGnBu\", vmin=-1, vmax=1,\n",
    "            xticklabels=[dcoumant1, dcoumant2], yticklabels=[dcoumant1, dcoumant2])\n",
    "plt.title(\"Cosine Similarity\")\n",
    "plt.xlabel(\"Dcoumant 2\")\n",
    "plt.ylabel(\"Dcoumant 1\")\n",
    "plt.show"
   ]
  }
 ],
 "metadata": {
  "kernelspec": {
   "display_name": "Python 3.8.5 ('base')",
   "language": "python",
   "name": "python3"
  },
  "language_info": {
   "codemirror_mode": {
    "name": "ipython",
    "version": 3
   },
   "file_extension": ".py",
   "mimetype": "text/x-python",
   "name": "python",
   "nbconvert_exporter": "python",
   "pygments_lexer": "ipython3",
   "version": "3.8.5"
  },
  "orig_nbformat": 4,
  "vscode": {
   "interpreter": {
    "hash": "15217e49054be0cc374b881cf7a66e6425ee40d09a4a359a4f1bfa260b803372"
   }
  }
 },
 "nbformat": 4,
 "nbformat_minor": 2
}
